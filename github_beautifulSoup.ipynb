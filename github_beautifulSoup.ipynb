{
 "cells": [
  {
   "cell_type": "code",
   "execution_count": 12,
   "id": "aad98f99",
   "metadata": {},
   "outputs": [],
   "source": [
    "import requests\n",
    "from bs4 import BeautifulSoup\n",
    "import pygit2\n",
    "import pandas as pd \n",
    "from github import Github\n",
    "import datetime\n",
    "import time "
   ]
  },
  {
   "cell_type": "code",
   "execution_count": 13,
   "id": "85f35d28",
   "metadata": {},
   "outputs": [],
   "source": [
    "url_languages = ['HTML', 'Ruby', 'Python', 'shell', 'JavaScript', 'Java', 'Jupyter notebook', 'C++', 'R', 'C#' ]"
   ]
  },
  {
   "cell_type": "code",
   "execution_count": 14,
   "id": "ace37fd9",
   "metadata": {
    "scrolled": true
   },
   "outputs": [],
   "source": [
    "#create a dictionnary to stock the data\n",
    "repos = { 'label': [],\n",
    "          'link' : []\n",
    "         }\n",
    "#loop by page and languages\n",
    "for languages in url_languages:\n",
    "    x = languages        \n",
    "    for i in range(100):\n",
    "        url = f\"https://github.com/search?l={x}&p={i}&q=repositories&type=Repositories\"\n",
    "        #\n",
    "        response = requests.get(url)\n",
    "        if response.status_code == 200:\n",
    "            # Proceed with extracting information from the response\n",
    "            html_content = response.text\n",
    "            # Create a BeautifulSoup object to parse the HTML\n",
    "            soup = BeautifulSoup(html_content, 'html.parser')\n",
    "            # Extract the desired information from the HTML using BeautifulSoup methods\n",
    "            for repo in soup.select('.repo-list-item .v-align-middle'):\n",
    "                name = repo.text.strip()\n",
    "                repos['label'].append(name)\n",
    "                link = f\"https://github.com/{name}\"\n",
    "                repos['link'].append(link)\n",
    "        time.sleep(4)"
   ]
  },
  {
   "cell_type": "code",
   "execution_count": 15,
   "id": "db0cc2f8",
   "metadata": {},
   "outputs": [
    {
     "name": "stdout",
     "output_type": "stream",
     "text": [
      "2639\n"
     ]
    }
   ],
   "source": [
    "print(len(repos['label']))"
   ]
  }
 ],
 "metadata": {
  "kernelspec": {
   "display_name": "Python 3 (ipykernel)",
   "language": "python",
   "name": "python3"
  },
  "language_info": {
   "codemirror_mode": {
    "name": "ipython",
    "version": 3
   },
   "file_extension": ".py",
   "mimetype": "text/x-python",
   "name": "python",
   "nbconvert_exporter": "python",
   "pygments_lexer": "ipython3",
   "version": "3.10.11"
  }
 },
 "nbformat": 4,
 "nbformat_minor": 5
}
